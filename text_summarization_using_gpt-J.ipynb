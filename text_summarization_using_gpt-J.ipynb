{
 "cells": [
  {
   "cell_type": "code",
   "execution_count": 2,
   "id": "173f9e8d-8446-44c6-8e0c-070e280c99a4",
   "metadata": {
    "tags": []
   },
   "outputs": [],
   "source": [
    "#importing ncessary libraries\n",
    "import torch\n",
    "from transformers import GPTJForCausalLM, AutoTokenizer\n",
    "\n",
    "device = torch.device(\"cuda\" if torch.cuda.is_available() else \"cpu\")\n",
    "import pandas as pd"
   ]
  },
  {
   "cell_type": "code",
   "execution_count": 3,
   "id": "4cde04ee-4608-430c-aa57-ea8b3190077c",
   "metadata": {
    "tags": []
   },
   "outputs": [],
   "source": [
    "model = GPTJForCausalLM.from_pretrained(\"EleutherAI/gpt-j-6B\", revision=\"float16\", torch_dtype=torch.float16,low_cpu_mem_usage=True)\n",
    "model.to(device)\n",
    "tokenizer = AutoTokenizer.from_pretrained(\"EleutherAI/gpt-j-6B\")"
   ]
  },
  {
   "cell_type": "code",
   "execution_count": 4,
   "id": "9bd4a6b9-02ca-4464-94f4-d6b477161ca4",
   "metadata": {
    "tags": []
   },
   "outputs": [],
   "source": [
    "\n",
    "def get_summary_generated(text):\n",
    "    \"\"\"\n",
    "    Function to generate the summary of the text\n",
    "    \"\"\"\n",
    "    input_ids = tokenizer.encode(text, truncation=True, max_length=model.config.max_position_embeddings, return_tensors=\"pt\").to(device)\n",
    "\n",
    "    input_length = input_ids.size(1)\n",
    "    max_length = min(int(input_length * 1.5), model.config.max_position_embeddings)\n",
    "\n",
    "    summary_ids = model.generate(\n",
    "        input_ids,\n",
    "        max_length=max_length,\n",
    "        temperature=0.9,\n",
    "        # num_beams=4,\n",
    "        early_stopping=True,\n",
    "        pad_token_id=tokenizer.eos_token_id,\n",
    "    )\n",
    "\n",
    "    summary = tokenizer.decode(summary_ids[0], skip_special_tokens=True)\n",
    "    summary = summary.replace(text, \"\").strip()\n",
    "\n",
    "    return summary\n",
    "\n"
   ]
  },
  {
   "cell_type": "code",
   "execution_count": 6,
   "id": "d2c10bf2-f7e0-41fb-b7d0-d826bb0a21f5",
   "metadata": {
    "tags": []
   },
   "outputs": [],
   "source": [
    "# Reading the data file\n",
    "data= pd.read_csv(\"text_data.csv\")\n",
    "data[\"summarized_text\"] = \"\"\n",
    "for index, row in data.iterrows():\n",
    "    original_text = row[\"original_text\"]\n",
    "    summary = get_summary_generated(original_text)\n",
    "    data.at[index, \"summarized_text\"] = summary"
   ]
  },
  {
   "cell_type": "code",
   "execution_count": 7,
   "id": "75dfd9a5-cc8c-4f59-955d-b576053168df",
   "metadata": {
    "tags": []
   },
   "outputs": [
    {
     "data": {
      "text/html": [
       "<div>\n",
       "<style scoped>\n",
       "    .dataframe tbody tr th:only-of-type {\n",
       "        vertical-align: middle;\n",
       "    }\n",
       "\n",
       "    .dataframe tbody tr th {\n",
       "        vertical-align: top;\n",
       "    }\n",
       "\n",
       "    .dataframe thead th {\n",
       "        text-align: right;\n",
       "    }\n",
       "</style>\n",
       "<table border=\"1\" class=\"dataframe\">\n",
       "  <thead>\n",
       "    <tr style=\"text-align: right;\">\n",
       "      <th></th>\n",
       "      <th>original_text</th>\n",
       "      <th>summarized_text</th>\n",
       "    </tr>\n",
       "  </thead>\n",
       "  <tbody>\n",
       "    <tr>\n",
       "      <th>0</th>\n",
       "      <td>America has changed dramatically during recent...</td>\n",
       "      <td>Retrieved from http://faculty.mit.edu/egf/chan...</td>\n",
       "    </tr>\n",
       "    <tr>\n",
       "      <th>1</th>\n",
       "      <td>So how do you go about identifying your streng...</td>\n",
       "      <td>SWOT Analysis is a useful technique that helps...</td>\n",
       "    </tr>\n",
       "    <tr>\n",
       "      <th>2</th>\n",
       "      <td>Jupiter is the fifth planet from the Sun and t...</td>\n",
       "      <td>Jupiter's gravitational field is weaker than t...</td>\n",
       "    </tr>\n",
       "  </tbody>\n",
       "</table>\n",
       "</div>"
      ],
      "text/plain": [
       "                                       original_text  \\\n",
       "0  America has changed dramatically during recent...   \n",
       "1  So how do you go about identifying your streng...   \n",
       "2  Jupiter is the fifth planet from the Sun and t...   \n",
       "\n",
       "                                     summarized_text  \n",
       "0  Retrieved from http://faculty.mit.edu/egf/chan...  \n",
       "1  SWOT Analysis is a useful technique that helps...  \n",
       "2  Jupiter's gravitational field is weaker than t...  "
      ]
     },
     "execution_count": 7,
     "metadata": {},
     "output_type": "execute_result"
    }
   ],
   "source": [
    "data"
   ]
  },
  {
   "cell_type": "code",
   "execution_count": null,
   "id": "ec303482-9aa7-4ced-ac40-17b87eaecef4",
   "metadata": {},
   "outputs": [],
   "source": [
    "data.to_csv(\"processed_text_summar\""
   ]
  }
 ],
 "metadata": {
  "kernelspec": {
   "display_name": "default:Python",
   "language": "python",
   "name": "conda-env-default-py"
  },
  "language_info": {
   "codemirror_mode": {
    "name": "ipython",
    "version": 3
   },
   "file_extension": ".py",
   "mimetype": "text/x-python",
   "name": "python",
   "nbconvert_exporter": "python",
   "pygments_lexer": "ipython3",
   "version": "3.9.16"
  }
 },
 "nbformat": 4,
 "nbformat_minor": 5
}
